{
  "nbformat": 4,
  "nbformat_minor": 0,
  "metadata": {
    "colab": {
      "name": "classification_gluoncv.ipynb",
      "provenance": []
    },
    "kernelspec": {
      "name": "python3",
      "display_name": "Python 3"
    },
    "language_info": {
      "name": "python"
    },
    "accelerator": "GPU"
  },
  "cells": [
    {
      "cell_type": "code",
      "metadata": {
        "colab": {
          "base_uri": "https://localhost:8080/",
          "height": 1000
        },
        "id": "s-3rh7Xvsubq",
        "outputId": "83ffd311-bf8e-43e0-adb6-851063c3ec62"
      },
      "source": [
        "!pip install mxnet\n",
        "!pip install gluoncv"
      ],
      "execution_count": null,
      "outputs": [
        {
          "output_type": "stream",
          "text": [
            "Requirement already satisfied: mxnet in /usr/local/lib/python3.7/dist-packages (1.8.0.post0)\n",
            "Requirement already satisfied: numpy<2.0.0,>1.16.0 in /usr/local/lib/python3.7/dist-packages (from mxnet) (1.19.5)\n",
            "Requirement already satisfied: graphviz<0.9.0,>=0.8.1 in /usr/local/lib/python3.7/dist-packages (from mxnet) (0.8.4)\n",
            "Requirement already satisfied: requests<3,>=2.20.0 in /usr/local/lib/python3.7/dist-packages (from mxnet) (2.23.0)\n",
            "Requirement already satisfied: chardet<4,>=3.0.2 in /usr/local/lib/python3.7/dist-packages (from requests<3,>=2.20.0->mxnet) (3.0.4)\n",
            "Requirement already satisfied: idna<3,>=2.5 in /usr/local/lib/python3.7/dist-packages (from requests<3,>=2.20.0->mxnet) (2.10)\n",
            "Requirement already satisfied: urllib3!=1.25.0,!=1.25.1,<1.26,>=1.21.1 in /usr/local/lib/python3.7/dist-packages (from requests<3,>=2.20.0->mxnet) (1.24.3)\n",
            "Requirement already satisfied: certifi>=2017.4.17 in /usr/local/lib/python3.7/dist-packages (from requests<3,>=2.20.0->mxnet) (2020.12.5)\n",
            "Collecting gluoncv\n",
            "\u001b[?25l  Downloading https://files.pythonhosted.org/packages/dd/2b/f1cc4e7a0a654c00dae9d870d0d1f653e5760ad85297306b63e6be527dcf/gluoncv-0.10.1.post0-py3-none-any.whl (1.1MB)\n",
            "\u001b[K     |████████████████████████████████| 1.1MB 8.7MB/s \n",
            "\u001b[?25hRequirement already satisfied: requests in /usr/local/lib/python3.7/dist-packages (from gluoncv) (2.23.0)\n",
            "Collecting tensorboardx\n",
            "\u001b[?25l  Downloading https://files.pythonhosted.org/packages/07/84/46421bd3e0e89a92682b1a38b40efc22dafb6d8e3d947e4ceefd4a5fabc7/tensorboardX-2.2-py2.py3-none-any.whl (120kB)\n",
            "\u001b[K     |████████████████████████████████| 122kB 41.5MB/s \n",
            "\u001b[?25hCollecting portalocker\n",
            "  Downloading https://files.pythonhosted.org/packages/68/33/cb524f4de298509927b90aa5ee34767b9a2b93e663cf354b2a3efa2b4acd/portalocker-2.3.0-py2.py3-none-any.whl\n",
            "Requirement already satisfied: pyyaml in /usr/local/lib/python3.7/dist-packages (from gluoncv) (3.13)\n",
            "Requirement already satisfied: opencv-python in /usr/local/lib/python3.7/dist-packages (from gluoncv) (4.1.2.30)\n",
            "Collecting autogluon.core\n",
            "\u001b[?25l  Downloading https://files.pythonhosted.org/packages/be/4d/6e8e1eb195aa09c4f62dab87a4ff1d7cb5964369606e4fe91af0bf9c5ffa/autogluon.core-0.2.0-py3-none-any.whl (334kB)\n",
            "\u001b[K     |████████████████████████████████| 337kB 52.0MB/s \n",
            "\u001b[?25hRequirement already satisfied: pandas in /usr/local/lib/python3.7/dist-packages (from gluoncv) (1.1.5)\n",
            "Collecting yacs\n",
            "  Downloading https://files.pythonhosted.org/packages/38/4f/fe9a4d472aa867878ce3bb7efb16654c5d63672b86dc0e6e953a67018433/yacs-0.1.8-py3-none-any.whl\n",
            "Collecting autocfg\n",
            "  Downloading https://files.pythonhosted.org/packages/95/f9/74e0a42cbc6d871c92288806e7812c7d2628c2a06557930dbab0a17438d2/autocfg-0.0.8-py3-none-any.whl\n",
            "Requirement already satisfied: tqdm in /usr/local/lib/python3.7/dist-packages (from gluoncv) (4.41.1)\n",
            "Requirement already satisfied: scipy in /usr/local/lib/python3.7/dist-packages (from gluoncv) (1.4.1)\n",
            "Collecting decord\n",
            "\u001b[?25l  Downloading https://files.pythonhosted.org/packages/64/5e/e2be6a3a3a46275059574d9c6a1d422aa6c7c3cbf6614939b8a3c3f8f2d5/decord-0.5.2-py3-none-manylinux2010_x86_64.whl (14.1MB)\n",
            "\u001b[K     |████████████████████████████████| 14.1MB 226kB/s \n",
            "\u001b[?25hRequirement already satisfied: matplotlib in /usr/local/lib/python3.7/dist-packages (from gluoncv) (3.2.2)\n",
            "Requirement already satisfied: numpy in /usr/local/lib/python3.7/dist-packages (from gluoncv) (1.19.5)\n",
            "Requirement already satisfied: Pillow in /usr/local/lib/python3.7/dist-packages (from gluoncv) (7.1.2)\n",
            "Requirement already satisfied: idna<3,>=2.5 in /usr/local/lib/python3.7/dist-packages (from requests->gluoncv) (2.10)\n",
            "Requirement already satisfied: chardet<4,>=3.0.2 in /usr/local/lib/python3.7/dist-packages (from requests->gluoncv) (3.0.4)\n",
            "Requirement already satisfied: certifi>=2017.4.17 in /usr/local/lib/python3.7/dist-packages (from requests->gluoncv) (2020.12.5)\n",
            "Requirement already satisfied: urllib3!=1.25.0,!=1.25.1,<1.26,>=1.21.1 in /usr/local/lib/python3.7/dist-packages (from requests->gluoncv) (1.24.3)\n",
            "Requirement already satisfied: protobuf>=3.8.0 in /usr/local/lib/python3.7/dist-packages (from tensorboardx->gluoncv) (3.12.4)\n",
            "Collecting ConfigSpace==0.4.18\n",
            "\u001b[?25l  Downloading https://files.pythonhosted.org/packages/a5/c3/3c21e8d82a639fd821f538e6d7f830b654a6ce1fe52644be1a67f323f707/ConfigSpace-0.4.18.tar.gz (950kB)\n",
            "\u001b[K     |████████████████████████████████| 952kB 27.3MB/s \n",
            "\u001b[?25h  Installing build dependencies ... \u001b[?25l\u001b[?25hdone\n",
            "  Getting requirements to build wheel ... \u001b[?25l\u001b[?25hdone\n",
            "    Preparing wheel metadata ... \u001b[?25l\u001b[?25hdone\n",
            "Requirement already satisfied: cython in /usr/local/lib/python3.7/dist-packages (from autogluon.core->gluoncv) (0.29.23)\n",
            "Collecting boto3\n",
            "\u001b[?25l  Downloading https://files.pythonhosted.org/packages/1e/c2/7091c0cbff9eeb4afb8ddf22ea2c5d6f27b0cfa5f207f5106b647b6614f4/boto3-1.17.88-py2.py3-none-any.whl (131kB)\n",
            "\u001b[K     |████████████████████████████████| 133kB 41.1MB/s \n",
            "\u001b[?25hCollecting distributed>=2.6.0\n",
            "\u001b[?25l  Downloading https://files.pythonhosted.org/packages/91/57/4ab1e5b6a4aee968ab7a808ca99fd85a4709c2e2b32bf6956cfd5e6c6c82/distributed-2021.6.0-py3-none-any.whl (715kB)\n",
            "\u001b[K     |████████████████████████████████| 716kB 37.6MB/s \n",
            "\u001b[?25hRequirement already satisfied: tornado>=5.0.1 in /usr/local/lib/python3.7/dist-packages (from autogluon.core->gluoncv) (5.1.1)\n",
            "Collecting paramiko>=2.4\n",
            "\u001b[?25l  Downloading https://files.pythonhosted.org/packages/95/19/124e9287b43e6ff3ebb9cdea3e5e8e88475a873c05ccdf8b7e20d2c4201e/paramiko-2.7.2-py2.py3-none-any.whl (206kB)\n",
            "\u001b[K     |████████████████████████████████| 215kB 56.4MB/s \n",
            "\u001b[?25hRequirement already satisfied: dask>=2.6.0 in /usr/local/lib/python3.7/dist-packages (from autogluon.core->gluoncv) (2.12.0)\n",
            "Requirement already satisfied: autograd>=1.3 in /usr/local/lib/python3.7/dist-packages (from autogluon.core->gluoncv) (1.3)\n",
            "Requirement already satisfied: dill==0.3.3 in /usr/local/lib/python3.7/dist-packages (from autogluon.core->gluoncv) (0.3.3)\n",
            "Requirement already satisfied: graphviz<0.9.0,>=0.8.1 in /usr/local/lib/python3.7/dist-packages (from autogluon.core->gluoncv) (0.8.4)\n",
            "Collecting scikit-learn<0.25,>=0.23.2\n",
            "\u001b[?25l  Downloading https://files.pythonhosted.org/packages/a8/eb/a48f25c967526b66d5f1fa7a984594f0bf0a5afafa94a8c4dbc317744620/scikit_learn-0.24.2-cp37-cp37m-manylinux2010_x86_64.whl (22.3MB)\n",
            "\u001b[K     |████████████████████████████████| 22.3MB 46.7MB/s \n",
            "\u001b[?25hRequirement already satisfied: pytz>=2017.2 in /usr/local/lib/python3.7/dist-packages (from pandas->gluoncv) (2018.9)\n",
            "Requirement already satisfied: python-dateutil>=2.7.3 in /usr/local/lib/python3.7/dist-packages (from pandas->gluoncv) (2.8.1)\n",
            "Requirement already satisfied: pyparsing!=2.0.4,!=2.1.2,!=2.1.6,>=2.0.1 in /usr/local/lib/python3.7/dist-packages (from matplotlib->gluoncv) (2.4.7)\n",
            "Requirement already satisfied: kiwisolver>=1.0.1 in /usr/local/lib/python3.7/dist-packages (from matplotlib->gluoncv) (1.3.1)\n",
            "Requirement already satisfied: cycler>=0.10 in /usr/local/lib/python3.7/dist-packages (from matplotlib->gluoncv) (0.10.0)\n",
            "Requirement already satisfied: six>=1.9 in /usr/local/lib/python3.7/dist-packages (from protobuf>=3.8.0->tensorboardx->gluoncv) (1.15.0)\n",
            "Requirement already satisfied: setuptools in /usr/local/lib/python3.7/dist-packages (from protobuf>=3.8.0->tensorboardx->gluoncv) (57.0.0)\n",
            "Collecting botocore<1.21.0,>=1.20.88\n",
            "\u001b[?25l  Downloading https://files.pythonhosted.org/packages/d8/d9/a22d370aba7cc0b454614f440f38c592b806c1903a451c8665811b4f58ad/botocore-1.20.88-py2.py3-none-any.whl (7.6MB)\n",
            "\u001b[K     |████████████████████████████████| 7.6MB 34.1MB/s \n",
            "\u001b[?25hCollecting jmespath<1.0.0,>=0.7.1\n",
            "  Downloading https://files.pythonhosted.org/packages/07/cb/5f001272b6faeb23c1c9e0acc04d48eaaf5c862c17709d20e3469c6e0139/jmespath-0.10.0-py2.py3-none-any.whl\n",
            "Collecting s3transfer<0.5.0,>=0.4.0\n",
            "\u001b[?25l  Downloading https://files.pythonhosted.org/packages/63/d0/693477c688348654ddc21dcdce0817653a294aa43f41771084c25e7ff9c7/s3transfer-0.4.2-py2.py3-none-any.whl (79kB)\n",
            "\u001b[K     |████████████████████████████████| 81kB 11.9MB/s \n",
            "\u001b[?25hRequirement already satisfied: tblib>=1.6.0 in /usr/local/lib/python3.7/dist-packages (from distributed>=2.6.0->autogluon.core->gluoncv) (1.7.0)\n",
            "Collecting cloudpickle>=1.5.0\n",
            "  Downloading https://files.pythonhosted.org/packages/e7/e3/898487e5dbeb612054cf2e0c188463acb358167fef749c53c8bb8918cea1/cloudpickle-1.6.0-py3-none-any.whl\n",
            "Requirement already satisfied: toolz>=0.8.2 in /usr/local/lib/python3.7/dist-packages (from distributed>=2.6.0->autogluon.core->gluoncv) (0.11.1)\n",
            "Requirement already satisfied: msgpack>=0.6.0 in /usr/local/lib/python3.7/dist-packages (from distributed>=2.6.0->autogluon.core->gluoncv) (1.0.2)\n",
            "Requirement already satisfied: click>=6.6 in /usr/local/lib/python3.7/dist-packages (from distributed>=2.6.0->autogluon.core->gluoncv) (7.1.2)\n",
            "Requirement already satisfied: sortedcontainers!=2.0.0,!=2.0.1 in /usr/local/lib/python3.7/dist-packages (from distributed>=2.6.0->autogluon.core->gluoncv) (2.4.0)\n",
            "Requirement already satisfied: psutil>=5.0 in /usr/local/lib/python3.7/dist-packages (from distributed>=2.6.0->autogluon.core->gluoncv) (5.4.8)\n",
            "Requirement already satisfied: zict>=0.1.3 in /usr/local/lib/python3.7/dist-packages (from distributed>=2.6.0->autogluon.core->gluoncv) (2.0.0)\n",
            "Collecting cryptography>=2.5\n",
            "\u001b[?25l  Downloading https://files.pythonhosted.org/packages/b2/26/7af637e6a7e87258b963f1731c5982fb31cd507f0d90d91836e446955d02/cryptography-3.4.7-cp36-abi3-manylinux2014_x86_64.whl (3.2MB)\n",
            "\u001b[K     |████████████████████████████████| 3.2MB 43.2MB/s \n",
            "\u001b[?25hCollecting bcrypt>=3.1.3\n",
            "\u001b[?25l  Downloading https://files.pythonhosted.org/packages/26/70/6d218afbe4c73538053c1016dd631e8f25fffc10cd01f5c272d7acf3c03d/bcrypt-3.2.0-cp36-abi3-manylinux2010_x86_64.whl (63kB)\n",
            "\u001b[K     |████████████████████████████████| 71kB 10.6MB/s \n",
            "\u001b[?25hCollecting pynacl>=1.0.1\n",
            "\u001b[?25l  Downloading https://files.pythonhosted.org/packages/9d/57/2f5e6226a674b2bcb6db531e8b383079b678df5b10cdaa610d6cf20d77ba/PyNaCl-1.4.0-cp35-abi3-manylinux1_x86_64.whl (961kB)\n",
            "\u001b[K     |████████████████████████████████| 962kB 38.6MB/s \n",
            "\u001b[?25hRequirement already satisfied: future>=0.15.2 in /usr/local/lib/python3.7/dist-packages (from autograd>=1.3->autogluon.core->gluoncv) (0.16.0)\n",
            "Collecting threadpoolctl>=2.0.0\n",
            "  Downloading https://files.pythonhosted.org/packages/f7/12/ec3f2e203afa394a149911729357aa48affc59c20e2c1c8297a60f33f133/threadpoolctl-2.1.0-py3-none-any.whl\n",
            "Requirement already satisfied: joblib>=0.11 in /usr/local/lib/python3.7/dist-packages (from scikit-learn<0.25,>=0.23.2->autogluon.core->gluoncv) (1.0.1)\n",
            "Requirement already satisfied: heapdict in /usr/local/lib/python3.7/dist-packages (from zict>=0.1.3->distributed>=2.6.0->autogluon.core->gluoncv) (1.0.1)\n",
            "Requirement already satisfied: cffi>=1.12 in /usr/local/lib/python3.7/dist-packages (from cryptography>=2.5->paramiko>=2.4->autogluon.core->gluoncv) (1.14.5)\n",
            "Requirement already satisfied: pycparser in /usr/local/lib/python3.7/dist-packages (from cffi>=1.12->cryptography>=2.5->paramiko>=2.4->autogluon.core->gluoncv) (2.20)\n",
            "Building wheels for collected packages: ConfigSpace\n",
            "  Building wheel for ConfigSpace (PEP 517) ... \u001b[?25l\u001b[?25hdone\n",
            "  Created wheel for ConfigSpace: filename=ConfigSpace-0.4.18-cp37-cp37m-linux_x86_64.whl size=2879826 sha256=ffe85dd266b727f470503ab8112482d17c28129d5bd72c306e76c7a77b7dd9e2\n",
            "  Stored in directory: /root/.cache/pip/wheels/39/ea/40/d93931850f700427db0a84180829c709d30484c9475040c7bd\n",
            "Successfully built ConfigSpace\n",
            "\u001b[31mERROR: distributed 2021.6.0 has requirement dask==2021.06.0, but you'll have dask 2.12.0 which is incompatible.\u001b[0m\n",
            "\u001b[31mERROR: botocore 1.20.88 has requirement urllib3<1.27,>=1.25.4, but you'll have urllib3 1.24.3 which is incompatible.\u001b[0m\n",
            "\u001b[31mERROR: autogluon-core 0.2.0 has requirement scipy<1.7,>=1.5.4, but you'll have scipy 1.4.1 which is incompatible.\u001b[0m\n",
            "Installing collected packages: tensorboardx, portalocker, ConfigSpace, jmespath, botocore, s3transfer, boto3, cloudpickle, distributed, cryptography, bcrypt, pynacl, paramiko, threadpoolctl, scikit-learn, autogluon.core, yacs, autocfg, decord, gluoncv\n",
            "  Found existing installation: cloudpickle 1.3.0\n",
            "    Uninstalling cloudpickle-1.3.0:\n",
            "      Successfully uninstalled cloudpickle-1.3.0\n",
            "  Found existing installation: distributed 1.25.3\n",
            "    Uninstalling distributed-1.25.3:\n",
            "      Successfully uninstalled distributed-1.25.3\n",
            "  Found existing installation: scikit-learn 0.22.2.post1\n",
            "    Uninstalling scikit-learn-0.22.2.post1:\n",
            "      Successfully uninstalled scikit-learn-0.22.2.post1\n",
            "Successfully installed ConfigSpace-0.4.18 autocfg-0.0.8 autogluon.core-0.2.0 bcrypt-3.2.0 boto3-1.17.88 botocore-1.20.88 cloudpickle-1.6.0 cryptography-3.4.7 decord-0.5.2 distributed-2021.6.0 gluoncv-0.10.1.post0 jmespath-0.10.0 paramiko-2.7.2 portalocker-2.3.0 pynacl-1.4.0 s3transfer-0.4.2 scikit-learn-0.24.2 tensorboardx-2.2 threadpoolctl-2.1.0 yacs-0.1.8\n"
          ],
          "name": "stdout"
        },
        {
          "output_type": "display_data",
          "data": {
            "application/vnd.colab-display-data+json": {
              "pip_warning": {
                "packages": [
                  "numpy",
                  "sklearn"
                ]
              }
            }
          },
          "metadata": {
            "tags": []
          }
        }
      ]
    },
    {
      "cell_type": "code",
      "metadata": {
        "id": "GK2yjOe0svgY"
      },
      "source": [
        "import mxnet as mx\n",
        "import gluoncv as gcv\n",
        "import matplotlib.pyplot as plt\n"
      ],
      "execution_count": null,
      "outputs": []
    },
    {
      "cell_type": "code",
      "metadata": {
        "id": "rcCbCAlWtD1_"
      },
      "source": [
        "image=mx.image.imread('cat.png')"
      ],
      "execution_count": null,
      "outputs": []
    },
    {
      "cell_type": "code",
      "metadata": {
        "colab": {
          "base_uri": "https://localhost:8080/"
        },
        "id": "pRXDkFlEwtLO",
        "outputId": "ab83f6d5-bafb-4d52-9160-e3d64797e15d"
      },
      "source": [
        "print(image.shape)"
      ],
      "execution_count": null,
      "outputs": [
        {
          "output_type": "stream",
          "text": [
            "(733, 490, 3)\n"
          ],
          "name": "stdout"
        }
      ]
    },
    {
      "cell_type": "code",
      "metadata": {
        "colab": {
          "base_uri": "https://localhost:8080/",
          "height": 286
        },
        "id": "8D4fX1mcwzko",
        "outputId": "c979eb8b-6491-4f31-ca5d-7e8ad3fde90f"
      },
      "source": [
        "plt.imshow(image.asnumpy())"
      ],
      "execution_count": null,
      "outputs": [
        {
          "output_type": "execute_result",
          "data": {
            "text/plain": [
              "<matplotlib.image.AxesImage at 0x7eff4d244d50>"
            ]
          },
          "metadata": {
            "tags": []
          },
          "execution_count": 7
        },
        {
          "output_type": "display_data",
          "data": {
            "image/png": "[encoded data removed]",
            "text/plain": [
              "<Figure size 432x288 with 1 Axes>"
            ]
          },
          "metadata": {
            "tags": [],
            "needs_background": "light"
          }
        }
      ]
    },
    {
      "cell_type": "code",
      "metadata": {
        "id": "oXdJ-0Arw9Ab"
      },
      "source": [
        "#needs 4 dim but the image has only 3, this is because the extra dimension comes from the batch of images that are passed to increase throughput\n",
        "#also needs 32 float not unsigned 8 integer\n",
        "image=gcv.data.transforms.presets.imagenet.transform_eval(image)"
      ],
      "execution_count": null,
      "outputs": []
    },
    {
      "cell_type": "code",
      "metadata": {
        "colab": {
          "base_uri": "https://localhost:8080/"
        },
        "id": "Nz4aTDBUyDdL",
        "outputId": "2c2464ab-afeb-49cd-8cf6-3164b2fcb948"
      },
      "source": [
        "print(image.shape)"
      ],
      "execution_count": null,
      "outputs": [
        {
          "output_type": "stream",
          "text": [
            "(1, 3, 224, 224)\n"
          ],
          "name": "stdout"
        }
      ]
    },
    {
      "cell_type": "code",
      "metadata": {
        "colab": {
          "base_uri": "https://localhost:8080/"
        },
        "id": "b9iY2YAvyN8z",
        "outputId": "0ddf476b-139f-473d-eb24-df74883dc37a"
      },
      "source": [
        "network=gcv.model_zoo.get_model('ResNet50_v1d',pretrained=True)"
      ],
      "execution_count": null,
      "outputs": [
        {
          "output_type": "stream",
          "text": [
            "Downloading /root/.mxnet/models/resnet50_v1d-117a384e.zip from https://apache-mxnet.s3-accelerate.dualstack.amazonaws.com/gluon/models/resnet50_v1d-117a384e.zip...\n"
          ],
          "name": "stdout"
        },
        {
          "output_type": "stream",
          "text": [
            "55464KB [00:00, 58883.52KB/s]                           \n"
          ],
          "name": "stderr"
        }
      ]
    },
    {
      "cell_type": "code",
      "metadata": {
        "id": "8L-m5v5lyrUM"
      },
      "source": [
        "prediction=network(image)"
      ],
      "execution_count": null,
      "outputs": []
    },
    {
      "cell_type": "code",
      "metadata": {
        "colab": {
          "base_uri": "https://localhost:8080/"
        },
        "id": "z7FPvQiKyvU7",
        "outputId": "ef987770-cfb6-4fd5-9f96-f63ca0049def"
      },
      "source": [
        "print(prediction.shape)"
      ],
      "execution_count": null,
      "outputs": [
        {
          "output_type": "stream",
          "text": [
            "(1, 1000)\n"
          ],
          "name": "stdout"
        }
      ]
    },
    {
      "cell_type": "code",
      "metadata": {
        "id": "V802RyU4yzbO"
      },
      "source": [
        "prediction=prediction[0]"
      ],
      "execution_count": null,
      "outputs": []
    },
    {
      "cell_type": "code",
      "metadata": {
        "colab": {
          "base_uri": "https://localhost:8080/"
        },
        "id": "9DdgN2Qty2W9",
        "outputId": "a68e0525-f387-4585-d765-38d1f4e3a52b"
      },
      "source": [
        "print(prediction.shape)"
      ],
      "execution_count": null,
      "outputs": [
        {
          "output_type": "stream",
          "text": [
            "(1000,)\n"
          ],
          "name": "stdout"
        }
      ]
    },
    {
      "cell_type": "code",
      "metadata": {
        "colab": {
          "base_uri": "https://localhost:8080/"
        },
        "id": "JRA9fBqEy4JA",
        "outputId": "8e9286c4-47a2-4231-cf6b-a031d3c4a489"
      },
      "source": [
        "probability=mx.nd.softmax(prediction)\n",
        "print(probability)"
      ],
      "execution_count": null,
      "outputs": [
        {
          "output_type": "stream",
          "text": [
            "\n",
            "[1.28409694e-04 3.29291768e-04 1.12903392e-04 2.55731953e-04\n",
            " 2.59238412e-04 1.62671285e-03 8.41121771e-04 1.77047536e-04\n",
            " 4.77810041e-04 1.84824909e-04 8.99285733e-05 1.38324918e-04\n",
            " 3.15072946e-04 2.01535950e-04 1.61314514e-04 3.96534946e-04\n",
            " 2.84391979e-04 1.79741663e-04 1.26686820e-04 1.48641499e-04\n",
            " 2.06481374e-04 2.82513385e-04 1.54881694e-04 1.82496718e-04\n",
            " 3.63342551e-04 1.09244269e-04 1.27356048e-04 4.85190074e-04\n",
            " 1.79446302e-04 2.19912443e-04 1.68179846e-04 4.99075570e-04\n",
            " 3.32659198e-04 2.00050461e-04 4.22283018e-04 1.93405504e-04\n",
            " 2.34012987e-04 2.08682832e-04 6.54494972e-04 2.36956112e-04\n",
            " 5.82121836e-04 7.89829239e-04 8.41687084e-04 6.04749483e-04\n",
            " 6.50425616e-04 1.63361081e-03 3.64941749e-04 4.31027613e-04\n",
            " 5.40723791e-04 2.98296742e-04 3.39974562e-04 2.80295848e-04\n",
            " 2.86849478e-04 1.74308982e-04 9.12634248e-04 2.33734740e-04\n",
            " 1.00470264e-03 8.05691059e-04 4.50659485e-04 1.71514635e-04\n",
            " 4.50972497e-04 3.09710711e-04 4.52221022e-04 1.40868104e-03\n",
            " 1.56682596e-04 1.70063082e-04 2.28589284e-03 5.93098695e-04\n",
            " 4.13389265e-04 1.88918333e-04 1.82130651e-04 2.95291946e-04\n",
            " 9.37768709e-05 1.46794802e-04 1.15057977e-04 2.15639404e-04\n",
            " 1.48105508e-04 7.85165757e-05 3.08794639e-04 2.87021860e-04\n",
            " 2.42112335e-04 1.83121039e-04 2.17709993e-03 1.72521651e-03\n",
            " 1.56635302e-04 1.13672367e-03 1.51718874e-03 3.17661645e-04\n",
            " 1.98762064e-04 8.31674915e-05 2.34154286e-04 2.99545500e-04\n",
            " 7.85617449e-05 2.02048512e-04 2.17854875e-04 1.15790644e-04\n",
            " 9.55672876e-05 2.54570856e-04 2.84415175e-04 7.35499052e-05\n",
            " 8.84485344e-05 1.66646278e-04 2.79797619e-04 1.83801458e-04\n",
            " 6.89480657e-05 8.14620362e-05 2.24938456e-04 1.63012344e-04\n",
            " 3.20558378e-04 1.68836952e-04 2.44740921e-04 3.82289203e-04\n",
            " 8.15367559e-04 1.16103259e-03 3.66117572e-04 1.52707144e-04\n",
            " 1.38129835e-04 5.49136836e-04 1.31265435e-04 1.12481182e-04\n",
            " 2.53584440e-04 2.48349184e-04 2.63219787e-04 2.46241601e-04\n",
            " 1.22839279e-04 2.06608820e-04 8.11459904e-05 1.16150150e-04\n",
            " 1.23401041e-04 1.67966020e-04 1.54292895e-04 1.06505198e-04\n",
            " 9.78962271e-05 3.17041355e-04 7.57278976e-05 8.27243086e-04\n",
            " 7.14423950e-05 1.12683883e-04 4.57730115e-04 2.46187963e-04\n",
            " 3.06449161e-04 4.97884466e-04 3.12538032e-04 2.18151865e-04\n",
            " 3.50119109e-04 1.65432866e-04 1.28629399e-04 1.44477890e-04\n",
            " 2.63363152e-04 2.28607343e-04 1.50364751e-04 1.14818045e-03\n",
            " 2.55536288e-04 1.83556826e-04 7.08987529e-04 5.08495374e-04\n",
            " 4.85006865e-04 6.71359070e-04 8.68612144e-04 3.03966081e-04\n",
            " 1.48085441e-04 1.79117516e-04 7.84329095e-05 1.05383755e-04\n",
            " 1.72986824e-04 2.28313540e-04 1.10121189e-04 1.28954765e-04\n",
            " 7.07092113e-04 7.23477715e-05 8.76202757e-05 4.55958245e-04\n",
            " 1.03354076e-04 4.85377503e-04 1.08019682e-04 7.93845611e-05\n",
            " 7.90791310e-05 6.27460831e-05 6.36298384e-04 5.82286084e-05\n",
            " 5.32775652e-04 1.67453807e-04 1.86944715e-04 2.30407255e-04\n",
            " 3.77884397e-04 2.98167724e-04 2.55632121e-03 7.29312247e-04\n",
            " 1.49329047e-04 2.10492522e-04 1.22738333e-04 1.49429761e-04\n",
            " 3.02945380e-04 3.68259061e-04 5.45445437e-05 2.75385159e-04\n",
            " 2.68785196e-04 1.75312598e-04 8.72882520e-05 4.19616408e-04\n",
            " 1.59730160e-04 1.66851562e-04 1.60131385e-04 3.38728569e-04\n",
            " 1.68190425e-04 5.06001234e-05 9.62689883e-05 2.90793600e-04\n",
            " 2.90998607e-04 8.11648715e-05 3.56379984e-04 1.40194781e-03\n",
            " 7.75338485e-05 2.85143557e-04 1.53996079e-04 3.37795966e-04\n",
            " 2.17067020e-04 8.73354147e-05 1.02702936e-04 2.38463879e-04\n",
            " 1.19029872e-04 3.40753439e-04 1.32235175e-04 7.71961175e-04\n",
            " 2.46743730e-04 1.94173204e-04 4.99676098e-04 1.67393620e-04\n",
            " 2.36240507e-04 1.42805831e-04 2.10838072e-04 2.36336506e-04\n",
            " 1.64975965e-04 1.54465219e-04 1.56975511e-04 2.62246351e-04\n",
            " 1.30799701e-04 4.79318405e-04 1.36570306e-04 1.84075107e-04\n",
            " 1.90940991e-04 9.25654022e-05 1.34928778e-04 1.70359970e-04\n",
            " 1.18863980e-04 1.94958091e-04 1.63798686e-04 1.40218515e-04\n",
            " 3.17026250e-04 3.82280268e-04 3.59166850e-04 3.82297207e-04\n",
            " 4.21043835e-04 5.45972376e-04 1.76410191e-04 6.94221308e-05\n",
            " 6.99242592e-05 2.78286490e-04 1.70050916e-04 2.11363425e-03\n",
            " 1.60071664e-04 1.45321392e-04 4.94607200e-04 9.32669442e-04\n",
            " 3.43675318e-04 1.40792551e-03 1.11357323e-04 1.13389113e-04\n",
            " 6.20997336e-04 1.11228481e-04 1.40417906e-04 4.38774790e-04\n",
            " 2.95831851e-04 3.02575063e-04 4.66489058e-04 4.50520456e-05\n",
            " 1.48197694e-04 3.18001118e-03 1.23918429e-03 3.01028631e-04\n",
            " 3.30554391e-03 2.13631213e-01 9.00633782e-02 6.20972775e-02\n",
            " 5.08854212e-03 2.26245120e-01 3.63367144e-04 1.28437150e-02\n",
            " 2.49275065e-04 6.29256174e-05 6.57245575e-04 4.31417029e-05\n",
            " 7.65447767e-05 6.52898161e-04 1.07032545e-04 1.40761811e-04\n",
            " 9.28618610e-05 7.94953157e-05 8.29630240e-04 6.21975283e-04\n",
            " 1.67977385e-04 2.19124340e-04 1.38480682e-04 3.71197268e-04\n",
            " 1.50847773e-04 1.51984277e-04 2.58051383e-04 1.47827654e-04\n",
            " 1.40788994e-04 1.36993607e-04 2.24874530e-04 1.04040286e-04\n",
            " 1.98798851e-04 2.60164845e-04 3.01066233e-04 2.15038119e-04\n",
            " 1.77052105e-04 1.87837722e-04 2.80439825e-04 1.21334415e-04\n",
            " 1.30959408e-04 1.54156776e-04 1.93862084e-04 3.87660752e-04\n",
            " 1.38436371e-04 1.45797734e-04 1.27392734e-04 8.01960530e-04\n",
            " 2.64245580e-04 2.93581194e-04 4.93870757e-04 3.81531077e-04\n",
            " 1.25219789e-03 1.27909961e-03 6.68178778e-04 5.11995575e-04\n",
            " 1.23436243e-04 1.56835216e-04 5.40397479e-04 1.99353308e-04\n",
            " 2.43667877e-04 1.37105351e-04 1.29710839e-04 2.01144430e-04\n",
            " 2.97265738e-04 1.59541465e-04 1.48031308e-04 1.30878689e-04\n",
            " 6.00070707e-05 2.53682752e-04 7.14339476e-05 2.05218777e-04\n",
            " 8.66953706e-05 1.95414250e-04 1.05189720e-04 1.20929290e-04\n",
            " 9.25918052e-04 2.74272694e-04 5.50683646e-04 1.01173844e-03\n",
            " 2.26925767e-04 6.63463783e-04 1.42490229e-04 1.23728660e-03\n",
            " 8.56713596e-05 4.27521009e-04 5.45569274e-05 1.74738729e-04\n",
            " 7.27521183e-05 1.08588996e-04 1.96583991e-04 3.02534550e-04\n",
            " 5.55003244e-05 2.04126874e-04 1.59105461e-04 6.28194321e-05\n",
            " 1.59500312e-04 3.00424494e-04 1.81871335e-04 1.14880524e-04\n",
            " 3.73853080e-04 8.35443716e-05 8.09264675e-05 9.61410478e-05\n",
            " 1.61512013e-04 3.18983890e-04 1.35798269e-04 2.82244233e-04\n",
            " 4.31289918e-05 3.03848123e-04 5.45583840e-04 1.71370586e-04\n",
            " 2.36111679e-04 5.07553807e-04 9.90143526e-05 1.84885808e-04\n",
            " 1.60289361e-04 2.35105952e-04 5.87124028e-04 2.00934403e-04\n",
            " 8.09917474e-05 1.65897334e-04 3.15977202e-04 1.57224073e-04\n",
            " 1.41439814e-04 1.15435891e-04 1.63156277e-04 1.93102693e-04\n",
            " 1.81104406e-04 1.59973846e-04 1.27436419e-04 1.12630500e-04\n",
            " 6.53552881e-04 1.16377450e-04 8.39200395e-04 2.31746322e-04\n",
            " 1.51748492e-04 2.55108345e-04 2.61589797e-04 4.56803478e-04\n",
            " 2.43649862e-04 2.81446293e-04 1.37000607e-04 1.91122177e-04\n",
            " 2.02800060e-04 1.74716071e-04 2.11395178e-04 5.30494144e-04\n",
            " 8.62906920e-04 4.66454367e-04 1.94418724e-04 1.18635979e-03\n",
            " 1.38960240e-04 1.93375818e-04 2.49176682e-03 2.40894803e-03\n",
            " 2.12467989e-04 1.52371911e-04 5.61223715e-04 1.82963922e-04\n",
            " 3.62750667e-04 5.81683416e-04 1.96624198e-04 3.79276578e-04\n",
            " 4.49229730e-04 1.18012831e-04 4.74702014e-04 9.83656966e-04\n",
            " 1.07103042e-04 1.83914366e-04 2.12005194e-04 4.11360990e-04\n",
            " 1.35134626e-03 5.40748006e-04 2.59202701e-04 3.39703460e-04\n",
            " 9.40124155e-05 6.48222282e-04 2.70210963e-04 3.96092364e-04\n",
            " 1.51008120e-04 4.66805912e-04 6.05436740e-04 1.43476634e-03\n",
            " 6.58173871e-04 2.20149450e-04 1.88391816e-04 1.24985876e-04\n",
            " 2.18770103e-04 7.55743182e-04 5.29760262e-04 1.04358085e-04\n",
            " 1.58772062e-04 1.84518722e-04 3.42804618e-04 6.79313613e-04\n",
            " 2.08025522e-04 1.09313201e-04 1.45563949e-03 4.93893807e-04\n",
            " 9.66369698e-05 2.57793959e-04 1.37809839e-04 1.39502852e-04\n",
            " 1.87444937e-04 2.03490330e-04 1.71664607e-04 3.75815405e-04\n",
            " 4.59130271e-04 2.01424220e-04 1.05218356e-03 2.16547618e-04\n",
            " 2.89255899e-04 3.52665811e-04 1.43734185e-04 1.57493298e-04\n",
            " 3.41636682e-04 1.98806432e-04 2.77775544e-04 2.84351030e-04\n",
            " 1.17165167e-04 1.56680355e-04 5.31828438e-04 3.63819156e-04\n",
            " 1.21312228e-03 2.67947151e-04 2.65863229e-04 5.67750714e-04\n",
            " 2.34053866e-03 2.24103482e-04 1.60965836e-04 1.51000699e-04\n",
            " 4.09486936e-04 2.83941015e-04 1.35446154e-03 1.25360303e-03\n",
            " 9.34342155e-04 2.27570956e-04 3.40182451e-04 5.25245792e-04\n",
            " 3.81572027e-04 1.02850597e-03 2.40617737e-04 1.49563130e-04\n",
            " 3.03673442e-04 1.14766255e-04 1.86818186e-04 2.71124503e-04\n",
            " 2.47766293e-04 2.94282567e-04 2.21463444e-04 2.03528369e-04\n",
            " 5.95997495e-04 5.50049648e-04 6.15200028e-04 1.64525816e-04\n",
            " 1.65324585e-04 1.18311058e-04 2.63889233e-04 1.71727408e-03\n",
            " 1.73413049e-04 1.71146836e-04 3.14567646e-04 2.40444252e-03\n",
            " 9.71934205e-05 2.70292279e-04 1.38545205e-04 1.67278471e-04\n",
            " 2.79464293e-04 1.30289016e-04 2.92901095e-04 2.06689903e-04\n",
            " 1.60614424e-03 7.10835797e-04 2.13296109e-04 2.53949664e-04\n",
            " 3.77893040e-04 1.62596843e-04 1.39065174e-04 2.22257731e-04\n",
            " 1.53264482e-04 1.06535321e-04 3.16286983e-04 1.30604691e-04\n",
            " 3.27840855e-04 1.80600706e-04 1.98667694e-04 5.07046294e-04\n",
            " 1.52339737e-04 2.18882284e-04 2.80931446e-04 3.19196144e-04\n",
            " 9.65418643e-04 1.68866332e-04 2.51753838e-04 1.88348145e-04\n",
            " 1.91264044e-04 3.73461779e-04 3.14735400e-04 1.39222626e-04\n",
            " 5.96614496e-04 1.75743728e-04 2.32869133e-04 1.69797640e-04\n",
            " 5.41495800e-04 1.72588785e-04 2.54650775e-04 1.49137632e-04\n",
            " 1.81268319e-03 3.22176900e-04 2.68898264e-04 7.34032015e-04\n",
            " 3.09318712e-04 5.49082644e-04 2.48180615e-04 1.29751250e-04\n",
            " 4.77593392e-04 3.46920220e-04 1.84981938e-04 3.87420150e-04\n",
            " 9.60127218e-05 3.42704734e-04 2.12213548e-04 2.13525884e-04\n",
            " 4.25589154e-04 1.64872705e-04 5.44592272e-04 4.06374660e-04\n",
            " 3.46814370e-04 2.26139833e-04 1.40743025e-04 1.00106059e-03\n",
            " 3.28064925e-04 2.80205393e-04 1.34412272e-04 2.74141814e-04\n",
            " 1.74407673e-04 1.86957914e-04 1.37480019e-04 3.39744758e-04\n",
            " 2.39982200e-03 2.08873767e-04 1.18042284e-03 1.34872633e-03\n",
            " 2.11847349e-04 3.13806580e-04 2.46885553e-04 1.63334393e-04\n",
            " 1.47680825e-04 2.88266456e-04 2.79069715e-03 7.78329675e-04\n",
            " 2.00793118e-04 3.91549052e-04 2.38334396e-04 2.14925967e-04\n",
            " 8.68769188e-04 4.31218796e-04 3.96081014e-04 3.06126400e-04\n",
            " 2.69896787e-04 2.77950166e-04 1.11918838e-04 5.76665974e-04\n",
            " 1.35489230e-04 1.09306537e-04 1.47479150e-04 4.41874668e-04\n",
            " 2.69908109e-04 1.26772036e-04 2.26965480e-04 2.69485259e-04\n",
            " 1.65906997e-04 8.35159677e-04 1.22188430e-04 4.54630004e-04\n",
            " 2.16530170e-04 1.27151128e-04 7.14281749e-04 4.13265312e-04\n",
            " 2.60748056e-04 1.66694677e-04 2.37900662e-04 9.52897608e-05\n",
            " 5.62028785e-04 3.44679720e-04 6.73690112e-04 1.41535071e-04\n",
            " 7.01525641e-05 5.11967752e-04 2.32778533e-04 2.72309000e-04\n",
            " 1.39670257e-04 2.07343488e-03 3.09099763e-04 1.68576793e-04\n",
            " 7.56100751e-04 7.36697402e-05 1.72040091e-04 3.44276457e-04\n",
            " 6.09934842e-03 2.46942771e-04 9.23678672e-05 1.82264688e-04\n",
            " 5.55491773e-04 3.04896152e-04 3.03109380e-04 1.55098460e-04\n",
            " 1.39951662e-04 3.68645939e-04 1.54941983e-04 1.05725718e-03\n",
            " 3.03230365e-04 1.16112831e-04 2.02541443e-04 1.48984022e-04\n",
            " 1.68650760e-04 2.99048988e-04 1.52904104e-04 2.68914417e-04\n",
            " 1.34875579e-03 1.27044652e-04 1.00158293e-04 1.48968335e-04\n",
            " 1.97566755e-04 1.31965324e-04 1.68347615e-04 1.79593117e-04\n",
            " 1.81539130e-04 2.48551893e-04 4.73968481e-04 3.37046542e-04\n",
            " 2.78687250e-04 5.75335231e-04 5.05486794e-04 4.52275970e-04\n",
            " 2.29068377e-04 1.02728060e-04 1.87395242e-04 1.56023976e-04\n",
            " 5.51946054e-04 8.75651895e-04 1.44565187e-03 2.66359886e-04\n",
            " 1.87875441e-04 1.50372041e-03 2.17023029e-04 9.99722542e-05\n",
            " 3.34219867e-03 1.37067967e-04 2.21259426e-04 2.41535308e-04\n",
            " 2.00992552e-04 2.02304669e-04 1.32701287e-04 3.07751849e-04\n",
            " 2.41481292e-04 3.72246781e-04 5.55321982e-04 1.87478465e-04\n",
            " 4.61409509e-04 8.69662385e-04 1.24784245e-03 1.71094784e-04\n",
            " 1.95485074e-04 1.14851326e-04 2.06044089e-04 2.87980685e-04\n",
            " 4.29358421e-04 1.05316140e-04 2.49576708e-03 1.35516559e-04\n",
            " 1.31788809e-04 1.07910018e-03 4.22606914e-04 2.81943823e-04\n",
            " 8.10162281e-04 1.65719131e-04 1.62938202e-04 3.80889251e-04\n",
            " 8.24063609e-04 8.03818088e-03 2.10057071e-04 2.89884716e-04\n",
            " 2.05685690e-04 4.14342678e-04 1.03443854e-04 1.80318966e-04\n",
            " 1.83745462e-04 2.70818535e-04 6.27288595e-04 4.79821989e-04\n",
            " 3.67410859e-04 6.94520015e-04 7.42048782e-04 1.58676994e-04\n",
            " 7.42141929e-05 3.50072223e-04 9.34434880e-04 1.56075010e-04\n",
            " 1.87393918e-04 2.64723087e-04 1.67623733e-03 3.15120735e-04\n",
            " 4.24957252e-04 1.53443558e-04 2.88027892e-04 4.38191870e-04\n",
            " 2.29414771e-04 3.77178716e-04 4.64527489e-04 1.70569620e-04\n",
            " 3.66275606e-04 4.28792933e-04 1.07499515e-03 2.18325236e-04\n",
            " 3.51361930e-04 1.55655923e-03 2.16325934e-04 3.36559897e-04\n",
            " 1.22195706e-04 1.10913883e-04 1.86222722e-04 2.30925856e-04\n",
            " 6.57204539e-04 1.77429538e-04 8.95170495e-04 1.57076662e-04\n",
            " 1.28259417e-04 1.23411650e-03 1.96800262e-04 4.50806506e-03\n",
            " 1.72116474e-04 6.13371376e-04 1.26443978e-04 2.68843520e-04\n",
            " 2.01283750e-04 1.74723900e-04 3.20793100e-04 7.37789305e-05\n",
            " 1.24367303e-04 1.94456181e-04 1.34065078e-04 3.23165761e-04\n",
            " 8.63297086e-04 2.23513649e-04 1.37860843e-04 2.12916566e-04\n",
            " 8.05198331e-04 4.72029496e-04 2.19994676e-04 4.76243964e-04\n",
            " 1.59061616e-04 2.25666401e-04 2.10708022e-04 1.93616346e-04\n",
            " 1.28145271e-04 3.94050643e-04 1.61455508e-04 2.69267272e-04\n",
            " 4.24555008e-04 6.86650921e-04 1.38160991e-04 2.19848167e-04\n",
            " 2.21330964e-04 8.26873991e-04 2.61765730e-04 1.59294781e-04\n",
            " 7.77561436e-05 9.38168145e-04 6.67603628e-04 4.47964907e-04\n",
            " 4.96238412e-04 1.95093307e-04 4.50158404e-04 1.12149992e-03\n",
            " 3.24322493e-04 3.15015437e-04 7.59743038e-04 5.59498672e-04\n",
            " 9.43871637e-05 8.05433781e-04 2.09521066e-04 1.77012247e-04\n",
            " 2.10973245e-04 1.68240411e-04 1.03780658e-04 2.92810175e-04\n",
            " 2.18962668e-04 2.32329534e-04 2.45159084e-04 1.47962986e-04\n",
            " 2.82755442e-04 1.21772544e-04 3.69638175e-04 3.79209669e-04\n",
            " 2.16654316e-03 1.52225650e-04 1.78440823e-04 2.35337429e-04\n",
            " 3.02240398e-04 2.01832721e-04 2.76668463e-04 9.86400992e-04\n",
            " 2.09437771e-04 3.66675929e-04 1.98900874e-04 3.09082941e-04\n",
            " 2.46277894e-04 3.11909127e-04 2.99425388e-04 2.35078129e-04\n",
            " 3.33241216e-04 9.29867791e-04 6.09169772e-04 1.60301977e-04\n",
            " 1.89157133e-03 5.34394663e-03 8.41827947e-04 3.78783181e-04\n",
            " 1.31785418e-04 5.39163011e-04 3.85437132e-04 3.04416317e-04\n",
            " 1.90883281e-03 5.04676660e-04 3.88995802e-04 3.71620699e-04\n",
            " 3.29562143e-04 5.32398524e-04 3.14775039e-04 4.46739839e-04\n",
            " 3.38948012e-04 2.25107229e-04 2.02839132e-04 1.42198158e-04\n",
            " 2.13399966e-04 1.63580524e-04 6.54606090e-04 1.34225309e-04\n",
            " 1.43897807e-04 6.68365508e-04 1.46848004e-04 1.37398427e-04\n",
            " 3.30615439e-04 2.19432899e-04 2.26660282e-04 2.14871441e-04\n",
            " 1.05282001e-04 3.76959360e-04 1.59053729e-04 4.12946974e-04\n",
            " 7.67026853e-04 1.36227289e-04 2.10201644e-04 1.65738660e-04\n",
            " 2.58775282e-04 1.01658062e-03 2.24686213e-04 4.59724368e-04\n",
            " 2.24813848e-04 1.90937804e-04 3.39751248e-04 5.42575668e-04\n",
            " 1.83320924e-04 7.76763540e-04 1.15124771e-04 1.71219974e-04\n",
            " 1.95632587e-04 2.22928546e-04 3.72978422e-04 3.14372272e-04\n",
            " 4.40170232e-04 1.67191640e-04 5.82084060e-04 3.83987353e-04\n",
            " 1.43504702e-04 3.67460947e-04 1.54646652e-04 1.80575982e-04\n",
            " 1.63690391e-04 1.88244274e-04 2.59562017e-04 9.75742005e-05\n",
            " 2.87595467e-04 1.02017802e-04 7.01148063e-04 7.15189381e-04\n",
            " 1.42624322e-03 4.79552953e-04 2.41808419e-04 6.70664129e-04\n",
            " 9.73154310e-05 3.93742055e-04 1.87944606e-04 2.26114178e-04\n",
            " 1.76310539e-04 1.40008939e-04 1.68359184e-04 1.11389250e-04\n",
            " 2.40739042e-04 8.83786779e-05 1.96494380e-04 2.63440044e-04\n",
            " 2.32030390e-04 2.34182764e-04 2.30903839e-04 1.03477843e-03\n",
            " 3.97362106e-04 1.26247571e-04 3.41536361e-04 1.56797178e-04\n",
            " 1.95188317e-04 2.59276741e-04 1.25319886e-04 8.12540893e-05\n",
            " 2.49807053e-04 7.26546277e-05 5.14358922e-04 7.15672737e-04]\n",
            "<NDArray 1000 @cpu(0)>\n"
          ],
          "name": "stdout"
        }
      ]
    },
    {
      "cell_type": "code",
      "metadata": {
        "colab": {
          "base_uri": "https://localhost:8080/"
        },
        "id": "NK0Xo2BnzHmY",
        "outputId": "69f7e64d-d4ad-415f-92ec-9c750583e35e"
      },
      "source": [
        "rounded_prob=mx.nd.round(prediction*100)/100\n",
        "print(rounded_prob)"
      ],
      "execution_count": null,
      "outputs": [
        {
          "output_type": "stream",
          "text": [
            "\n",
            "[-0.23  0.71 -0.36  0.45  0.47  2.3   1.65  0.09  1.08  0.13 -0.59 -0.16\n",
            "  0.66  0.22 -0.01  0.89  0.56  0.1  -0.25 -0.09  0.24  0.55 -0.05  0.12\n",
            "  0.81 -0.4  -0.24  1.09  0.1   0.3   0.04  1.12  0.72  0.21  0.96  0.18\n",
            "  0.37  0.25  1.39  0.38  1.28  1.58  1.65  1.32  1.39  2.31  0.81  0.98\n",
            "  1.2   0.61  0.74  0.55  0.57  0.07  1.73  0.36  1.82  1.6   1.02  0.05\n",
            "  1.02  0.65  1.02  2.16 -0.04  0.05  2.64  1.3   0.93  0.15  0.12  0.6\n",
            " -0.55 -0.1  -0.34  0.28 -0.09 -0.73  0.64  0.57  0.4   0.12  2.6   2.36\n",
            " -0.04  1.95  2.23  0.67  0.2  -0.67  0.37  0.61 -0.73  0.22  0.29 -0.34\n",
            " -0.53  0.45  0.56 -0.79 -0.61  0.03  0.54  0.12 -0.86 -0.69  0.33  0.\n",
            "  0.68  0.04  0.41  0.86  1.61  1.97  0.81 -0.06 -0.16  1.22 -0.21 -0.37\n",
            "  0.45  0.43  0.48  0.42 -0.28  0.24 -0.69 -0.33 -0.27  0.03 -0.05 -0.42\n",
            " -0.51  0.67 -0.76  1.63 -0.82 -0.37  1.04  0.42  0.64  1.12  0.66  0.3\n",
            "  0.77  0.02 -0.23 -0.12  0.48  0.34 -0.08  1.96  0.45  0.12  1.47  1.14\n",
            "  1.09  1.42  1.68  0.63 -0.09  0.1  -0.73 -0.43  0.06  0.34 -0.39 -0.23\n",
            "  1.47 -0.81 -0.62  1.03 -0.45  1.1  -0.41 -0.72 -0.72 -0.95  1.37 -1.03\n",
            "  1.19  0.03  0.14  0.35  0.84  0.61  2.76  1.5  -0.08  0.26 -0.28 -0.08\n",
            "  0.62  0.82 -1.09  0.53  0.5   0.08 -0.62  0.95 -0.02  0.03 -0.01  0.74\n",
            "  0.04 -1.17 -0.52  0.58  0.58 -0.69  0.79  2.16 -0.74  0.56 -0.05  0.73\n",
            "  0.29 -0.62 -0.46  0.38 -0.31  0.74 -0.21  1.56  0.42  0.18  1.12  0.03\n",
            "  0.38 -0.13  0.26  0.38  0.02 -0.05 -0.03  0.48 -0.22  1.08 -0.17  0.13\n",
            "  0.16 -0.56 -0.18  0.05 -0.31  0.18  0.01 -0.15  0.67  0.86  0.79  0.86\n",
            "  0.95  1.21  0.08 -0.85 -0.84  0.54  0.05  2.57 -0.01 -0.11  1.11  1.75\n",
            "  0.75  2.16 -0.38 -0.36  1.34 -0.38 -0.15  0.99  0.6   0.62  1.06 -1.28\n",
            " -0.09  2.97  2.03  0.62  3.01  7.18  6.32  5.95  3.45  7.24  0.81  4.37\n",
            "  0.43 -0.95  1.4  -1.33 -0.75  1.39 -0.42 -0.14 -0.56 -0.71  1.63  1.34\n",
            "  0.03  0.3  -0.16  0.83 -0.07 -0.07  0.46 -0.09 -0.14 -0.17  0.33 -0.44\n",
            "  0.2   0.47  0.62  0.28  0.09  0.15  0.55 -0.29 -0.21 -0.05  0.18  0.87\n",
            " -0.16 -0.11 -0.24  1.6   0.49  0.59  1.11  0.85  2.04  2.06  1.41  1.15\n",
            " -0.27 -0.03  1.2   0.21  0.41 -0.17 -0.22  0.21  0.6  -0.02 -0.09 -0.22\n",
            " -1.    0.45 -0.82  0.23 -0.63  0.19 -0.43 -0.29  1.74  0.52  1.22  1.83\n",
            "  0.33  1.41 -0.13  2.03 -0.64  0.97 -1.09  0.07 -0.8  -0.4   0.19  0.62\n",
            " -1.07  0.23 -0.02 -0.95 -0.02  0.62  0.11 -0.35  0.83 -0.66 -0.7  -0.52\n",
            " -0.01  0.68 -0.18  0.55 -1.33  0.63  1.21  0.05  0.37  1.14 -0.49  0.13\n",
            " -0.01  0.37  1.29  0.21 -0.7   0.02  0.67 -0.03 -0.14 -0.34  0.01  0.17\n",
            "  0.11 -0.01 -0.24 -0.37  1.39 -0.33  1.64  0.36 -0.07  0.45  0.48  1.03\n",
            "  0.41  0.55 -0.17  0.16  0.22  0.07  0.26  1.18  1.67  1.06  0.18  1.99\n",
            " -0.16  0.17  2.73  2.7   0.27 -0.06  1.24  0.12  0.8   1.28  0.19  0.85\n",
            "  1.02 -0.32  1.07  1.8  -0.42  0.12  0.27  0.93  2.12  1.2   0.47  0.74\n",
            " -0.55  1.38  0.51  0.89 -0.07  1.06  1.32  2.18  1.4   0.3   0.15 -0.26\n",
            "  0.3   1.54  1.18 -0.44 -0.02  0.13  0.75  1.43  0.25 -0.4   2.19  1.11\n",
            " -0.52  0.46 -0.16 -0.15  0.14  0.23  0.06  0.84  1.04  0.22  1.87  0.29\n",
            "  0.58  0.78 -0.12 -0.03  0.74  0.2   0.54  0.56 -0.33 -0.04  1.19  0.81\n",
            "  2.01  0.5   0.49  1.25  2.67  0.32 -0.01 -0.07  0.93  0.56  2.12  2.04\n",
            "  1.75  0.34  0.74  1.17  0.85  1.85  0.39 -0.08  0.63 -0.35  0.14  0.51\n",
            "  0.42  0.59  0.31  0.23  1.3   1.22  1.33  0.01  0.02 -0.32  0.49  2.36\n",
            "  0.07  0.05  0.66  2.7  -0.51  0.51 -0.16  0.03  0.54 -0.22  0.59  0.24\n",
            "  2.29  1.48  0.27  0.45  0.84  0.   -0.15  0.31 -0.06 -0.42  0.67 -0.22\n",
            "  0.7   0.11  0.2   1.14 -0.06  0.3   0.55  0.68  1.78  0.04  0.44  0.15\n",
            "  0.16  0.83  0.66 -0.15  1.3   0.08  0.36  0.04  1.2   0.06  0.45 -0.08\n",
            "  2.41  0.69  0.5   1.51  0.64  1.22  0.42 -0.22  1.08  0.76  0.13  0.87\n",
            " -0.53  0.75  0.27  0.27  0.96  0.02  1.21  0.92  0.76  0.33 -0.14  1.82\n",
            "  0.7   0.55 -0.19  0.52  0.07  0.14 -0.17  0.74  2.69  0.25  1.98  2.12\n",
            "  0.27  0.66  0.42  0.01 -0.09  0.57  2.84  1.57  0.21  0.88  0.38  0.28\n",
            "  1.68  0.98  0.89  0.63  0.51  0.54 -0.37  1.27 -0.18 -0.4  -0.1   1.\n",
            "  0.51 -0.25  0.34  0.51  0.02  1.64 -0.28  1.03  0.29 -0.24  1.48  0.93\n",
            "  0.47  0.03  0.38 -0.53  1.24  0.75  1.42 -0.14 -0.84  1.15  0.36  0.52\n",
            " -0.15  2.55  0.64  0.04  1.54 -0.79  0.06  0.75  3.63  0.42 -0.56  0.12\n",
            "  1.23  0.63  0.62 -0.05 -0.15  0.82 -0.05  1.87  0.62 -0.34  0.22 -0.09\n",
            "  0.04  0.61 -0.06  0.5   2.12 -0.25 -0.48 -0.09  0.2  -0.21  0.04  0.1\n",
            "  0.11  0.43  1.07  0.73  0.54  1.27  1.14  1.02  0.34 -0.46  0.14 -0.04\n",
            "  1.22  1.69  2.19  0.5   0.15  2.23  0.29 -0.48  3.02 -0.17  0.31  0.4\n",
            "  0.21  0.22 -0.2   0.64  0.4   0.83  1.23  0.14  1.04  1.68  2.04  0.05\n",
            "  0.19 -0.35  0.24  0.57  0.97 -0.43  2.73 -0.18 -0.21  1.89  0.96  0.55\n",
            "  1.61  0.02  0.    0.85  1.62  3.9   0.26  0.58  0.24  0.94 -0.45  0.11\n",
            "  0.12  0.51  1.35  1.08  0.82  1.45  1.52 -0.02 -0.78  0.77  1.75 -0.04\n",
            "  0.14  0.49  2.33  0.66  0.96 -0.06  0.57  0.99  0.35  0.84  1.05  0.05\n",
            "  0.81  0.97  1.89  0.3   0.77  2.26  0.29  0.73 -0.28 -0.38  0.14  0.35\n",
            "  1.4   0.09  1.71 -0.03 -0.24  2.03  0.19  3.32  0.06  1.33 -0.25  0.5\n",
            "  0.22  0.07  0.68 -0.79 -0.27  0.18 -0.19  0.69  1.67  0.32 -0.16  0.27\n",
            "  1.6   1.07  0.3   1.08 -0.02  0.33  0.26  0.18 -0.24  0.89 -0.01  0.51\n",
            "  0.96  1.44 -0.16  0.3   0.31  1.63  0.48 -0.02 -0.74  1.75  1.41  1.02\n",
            "  1.12  0.18  1.02  1.93  0.69  0.66  1.54  1.24 -0.54  1.6   0.26  0.09\n",
            "  0.26  0.04 -0.45  0.59  0.3   0.36  0.41 -0.09  0.55 -0.29  0.82  0.85\n",
            "  2.59 -0.06  0.09  0.37  0.62  0.22  0.53  1.8   0.25  0.81  0.2   0.64\n",
            "  0.42  0.65  0.61  0.37  0.72  1.75  1.32 -0.01  2.46  3.49  1.65  0.85\n",
            " -0.21  1.2   0.86  0.63  2.46  1.13  0.87  0.83  0.71  1.19  0.66  1.01\n",
            "  0.74  0.33  0.22 -0.13  0.27  0.01  1.39 -0.19 -0.12  1.42 -0.1  -0.17\n",
            "  0.71  0.3   0.33  0.28 -0.43  0.84 -0.02  0.93  1.55 -0.18  0.26  0.02\n",
            "  0.47  1.83  0.33  1.04  0.33  0.16  0.74  1.21  0.12  1.57 -0.34  0.05\n",
            "  0.19  0.32  0.83  0.66  1.    0.03  1.28  0.86 -0.12  0.82 -0.05  0.11\n",
            "  0.01  0.15  0.47 -0.51  0.57 -0.46  1.46  1.48  2.17  1.08  0.4   1.42\n",
            " -0.51  0.89  0.15  0.33  0.08 -0.15  0.04 -0.38  0.39 -0.61  0.19  0.48\n",
            "  0.36  0.37  0.35  1.85  0.9  -0.25  0.74 -0.03  0.18  0.47 -0.26 -0.69\n",
            "  0.43 -0.8   1.15  1.48]\n",
            "<NDArray 1000 @cpu(0)>\n"
          ],
          "name": "stdout"
        }
      ]
    },
    {
      "cell_type": "code",
      "metadata": {
        "colab": {
          "base_uri": "https://localhost:8080/"
        },
        "id": "nBHUcAg9zSTI",
        "outputId": "a6d89dba-f26e-4cf3-8cbb-58d69d299d56"
      },
      "source": [
        "k=5\n",
        "topk_indices=mx.nd.topk(probability,k=k)\n",
        "topk_indices"
      ],
      "execution_count": null,
      "outputs": [
        {
          "output_type": "execute_result",
          "data": {
            "text/plain": [
              "\n",
              "[285. 281. 282. 283. 287.]\n",
              "<NDArray 5 @cpu(0)>"
            ]
          },
          "metadata": {
            "tags": []
          },
          "execution_count": 20
        }
      ]
    },
    {
      "cell_type": "code",
      "metadata": {
        "colab": {
          "base_uri": "https://localhost:8080/",
          "height": 35
        },
        "id": "d8kPcqsgz2Hb",
        "outputId": "888a2831-c551-4dae-b66f-6a87fa246a14"
      },
      "source": [
        "network.classes[285]"
      ],
      "execution_count": null,
      "outputs": [
        {
          "output_type": "execute_result",
          "data": {
            "application/vnd.google.colaboratory.intrinsic+json": {
              "type": "string"
            },
            "text/plain": [
              "'Egyptian cat'"
            ]
          },
          "metadata": {
            "tags": []
          },
          "execution_count": 21
        }
      ]
    },
    {
      "cell_type": "code",
      "metadata": {
        "colab": {
          "base_uri": "https://localhost:8080/"
        },
        "id": "baXb-mqlz8Mm",
        "outputId": "8a7e3bc6-575e-4ad4-e855-d6b8fcad803d"
      },
      "source": [
        "for i in range(k):\n",
        "  class_index=topk_indices[i].astype('int').asscalar()\n",
        "  class_label=network.classes[class_index]\n",
        "  class_probability=probability[class_index]\n",
        "  print(str(class_label)+\" \"+str(class_probability))"
      ],
      "execution_count": null,
      "outputs": [
        {
          "output_type": "stream",
          "text": [
            "Egyptian cat \n",
            "[0.22624512]\n",
            "<NDArray 1 @cpu(0)>\n",
            "tabby \n",
            "[0.21363121]\n",
            "<NDArray 1 @cpu(0)>\n",
            "tiger cat \n",
            "[0.09006338]\n",
            "<NDArray 1 @cpu(0)>\n",
            "Persian cat \n",
            "[0.06209728]\n",
            "<NDArray 1 @cpu(0)>\n",
            "lynx \n",
            "[0.01284372]\n",
            "<NDArray 1 @cpu(0)>\n"
          ],
          "name": "stdout"
        }
      ]
    },
    {
      "cell_type": "code",
      "metadata": {
        "id": "-365XC5n0k1V"
      },
      "source": [
        ""
      ],
      "execution_count": null,
      "outputs": []
    }
  ]
}